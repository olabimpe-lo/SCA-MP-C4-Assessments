{
 "cells": [
  {
   "cell_type": "code",
   "execution_count": 1,
   "metadata": {},
   "outputs": [],
   "source": [
    "#program to generate a random number between 0 and 20\n",
    "import random\n",
    "x = random.randint(0,20)"
   ]
  },
  {
   "cell_type": "code",
   "execution_count": 2,
   "metadata": {},
   "outputs": [
    {
     "name": "stdout",
     "output_type": "stream",
     "text": [
      "11\n"
     ]
    }
   ],
   "source": [
    "print(x)"
   ]
  },
  {
   "cell_type": "code",
   "execution_count": 3,
   "metadata": {},
   "outputs": [
    {
     "name": "stdout",
     "output_type": "stream",
     "text": [
      "7\n",
      "Your guess is too high\n"
     ]
    }
   ],
   "source": [
    "guess = int(input())\n",
    "x = random.randint(0,20)\n",
    "if guess < x:\n",
    "    print(\"Your guess is too low\")\n",
    "else:\n",
    "    print(\"Your guess is too high\")"
   ]
  },
  {
   "cell_type": "code",
   "execution_count": 6,
   "metadata": {},
   "outputs": [
    {
     "name": "stdout",
     "output_type": "stream",
     "text": [
      "how long do you want your password to be? \n",
      " kindly indicate in numbers 10\n",
      "how many alphabets do they want in their password 2\n",
      "how many numbers do they want in their password 3\n",
      "AB{tB;5MY~\n"
     ]
    }
   ],
   "source": [
    "#password generator\n",
    "import random,string\n",
    "#ask the user how long they want their password to be\n",
    "password_length = int(input(\"how long do you want your password to be? \\n kindly indicate in numbers\"\" \"))\n",
    "#ask the user how many alphabet they waant\n",
    "password_alphabets = int(input(\"how many alphabets do they want in their password\" \" \"))\n",
    "#ask the user how many numbers they want\n",
    "password_digits = int(input(\"how many numbers do they want in their password\" \" \"))\n",
    "password_characters = string.ascii_letters + string.digits + string.punctuation\n",
    "password = []\n",
    "for x in range(password_length):\n",
    "    password.append(random.choice(password_characters))\n",
    "print(\"\".join(password))\n",
    "\n"
   ]
  }
 ],
 "metadata": {
  "kernelspec": {
   "display_name": "Python 3",
   "language": "python",
   "name": "python3"
  },
  "language_info": {
   "codemirror_mode": {
    "name": "ipython",
    "version": 3
   },
   "file_extension": ".py",
   "mimetype": "text/x-python",
   "name": "python",
   "nbconvert_exporter": "python",
   "pygments_lexer": "ipython3",
   "version": "3.7.4"
  }
 },
 "nbformat": 4,
 "nbformat_minor": 2
}
